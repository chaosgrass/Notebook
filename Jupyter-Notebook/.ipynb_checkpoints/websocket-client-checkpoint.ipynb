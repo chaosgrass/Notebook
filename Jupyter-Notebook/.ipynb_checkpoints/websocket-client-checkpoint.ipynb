{
 "cells": [
  {
   "cell_type": "code",
   "execution_count": 2,
   "metadata": {},
   "outputs": [
    {
     "name": "stdout",
     "output_type": "stream",
     "text": [
      "Sending 'init'...\n",
      "Sent\n",
      "Receiving...\n",
      "Received '{\"data\":{\"imageApi\":{\"methods\":[[\"deleteLater\",3]],\"properties\":[[0,\"objectName\",[1,2],\"\"],[1,\"freezed\",[1,5],false],[2,\"probeModel\",[1,6],\"C5-1E\"]],\"signals\":[[\"destroyed\",0]]},\"machineApi\":{\"enums\":{\"MachineStatus\":{\"Running\":0,\"ShuttingDown\":2,\"StartingUp\":1,\"Unknown\":3}},\"methods\":[[\"deleteLater\",3],[\"exitApp\",7],[\"restartApp\",8],[\"shutdownMachine\",9],[\"rebootMachine\",10]],\"properties\":[[0,\"objectName\",[1,2],\"\"],[1,\"machineStatus\",[1,5],0]],\"signals\":[[\"destroyed\",0],[\"prepareExitApp\",6]]},\"panelApi\":{\"methods\":[[\"deleteLater\",3],[\"onRecvKeyMessage\",5],[\"click\",10],[\"slider\",11],[\"rotate\",12]],\"properties\":[[0,\"objectName\",[1,2],\"\"],[1,\"directHandle\",[1,14],true]],\"signals\":[[\"destroyed\",0],[\"clickSignal\",7],[\"sliderSignal\",8],[\"rotateSignal\",9]]},\"patientApi\":{\"methods\":[[\"deleteLater\",3],[\"beginExam\",5],[\"endExam\",6]],\"properties\":[[0,\"objectName\",[1,2],\"\"]],\"signals\":[[\"destroyed\",0]]}},\"id\":0,\"type\":10}'\n"
     ]
    }
   ],
   "source": [
    "#客户端连接至本地端口\n",
    "from websocket import create_connection\n",
    "ws = create_connection(\"ws://localhost:12345/\")\n",
    "print(\"Sending 'init'...\")\n",
    "ws.send('{\"id\":0,\"type\":3}')\n",
    "print(\"Sent\")\n",
    "print(\"Receiving...\")\n",
    "result =  ws.recv()\n",
    "print(\"Received '%s'\" % result)\n",
    "ws.close()"
   ]
  }
 ],
 "metadata": {
  "kernelspec": {
   "display_name": "Python 2",
   "language": "python",
   "name": "python2"
  },
  "language_info": {
   "codemirror_mode": {
    "name": "ipython",
    "version": 2
   },
   "file_extension": ".py",
   "mimetype": "text/x-python",
   "name": "python",
   "nbconvert_exporter": "python",
   "pygments_lexer": "ipython2",
   "version": "2.7.10"
  }
 },
 "nbformat": 4,
 "nbformat_minor": 2
}
