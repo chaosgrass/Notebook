{
 "cells": [
  {
   "cell_type": "code",
   "execution_count": 5,
   "metadata": {},
   "outputs": [
    {
     "name": "stdout",
     "output_type": "stream",
     "text": [
      "<type 'function'>\n",
      "<type 'instancemethod'>\n"
     ]
    },
    {
     "ename": "NameError",
     "evalue": "name 'instancemethod' is not defined",
     "output_type": "error",
     "traceback": [
      "\u001b[1;31m---------------------------------------------------------------------------\u001b[0m",
      "\u001b[1;31mNameError\u001b[0m                                 Traceback (most recent call last)",
      "\u001b[1;32m<ipython-input-5-d393aa4480f0>\u001b[0m in \u001b[0;36m<module>\u001b[1;34m()\u001b[0m\n\u001b[0;32m      9\u001b[0m \u001b[1;33m\u001b[0m\u001b[0m\n\u001b[0;32m     10\u001b[0m \u001b[1;32mprint\u001b[0m\u001b[1;33m(\u001b[0m\u001b[0mtype\u001b[0m\u001b[1;33m(\u001b[0m\u001b[0mFoo\u001b[0m\u001b[1;33m(\u001b[0m\u001b[1;33m)\u001b[0m\u001b[1;33m.\u001b[0m\u001b[0mfunc\u001b[0m\u001b[1;33m)\u001b[0m\u001b[1;33m)\u001b[0m\u001b[1;33m\u001b[0m\u001b[0m\n\u001b[1;32m---> 11\u001b[1;33m \u001b[1;32massert\u001b[0m \u001b[0misinstance\u001b[0m\u001b[1;33m(\u001b[0m\u001b[0mFoo\u001b[0m\u001b[1;33m(\u001b[0m\u001b[1;33m)\u001b[0m\u001b[1;33m.\u001b[0m\u001b[0mfunc\u001b[0m\u001b[1;33m,\u001b[0m \u001b[0minstancemethod\u001b[0m\u001b[1;33m)\u001b[0m\u001b[1;33m\u001b[0m\u001b[0m\n\u001b[0m",
      "\u001b[1;31mNameError\u001b[0m: name 'instancemethod' is not defined"
     ]
    }
   ],
   "source": [
    "#Python测试：function类型\n",
    "def func():\n",
    "    pass\n",
    "print(type(func))\n",
    "\n",
    "class Foo:\n",
    "    def func(self):\n",
    "        pass\n",
    "\n",
    "print(type(Foo().func))\n",
    "assert isinstance(Foo().func, instancemethod)"
   ]
  },
  {
   "cell_type": "code",
   "execution_count": 35,
   "metadata": {},
   "outputs": [
    {
     "name": "stdout",
     "output_type": "stream",
     "text": [
      "1\n",
      "2\n"
     ]
    }
   ],
   "source": [
    "#Python 动态添加方法与属性\n",
    "\n",
    "class QObject:\n",
    "    def __init__(self):\n",
    "        pass\n",
    "    def addSignal(self, name, val):\n",
    "        var = val\n",
    "        class SignalObject:\n",
    "            def printVar(self):\n",
    "                self.var = var\n",
    "                print(self.var)\n",
    "        s = SignalObject()\n",
    "        setattr(self, name, s)\n",
    "        \n",
    "o = QObject()\n",
    "var = 1\n",
    "o.addSignal('one', var)\n",
    "var = 2\n",
    "o.addSignal('two', var)\n",
    "o.one.printVar()\n",
    "o.two.printVar()"
   ]
  },
  {
   "cell_type": "code",
   "execution_count": 13,
   "metadata": {},
   "outputs": [
    {
     "name": "stdout",
     "output_type": "stream",
     "text": [
      "hello nichole in shenzhen\n",
      "((1, 2, 3),)\n"
     ]
    }
   ],
   "source": [
    "#Python 方法动态调用，动态变长参数\n",
    "def func2(name, city):\n",
    "    print \"hello %s in %s\" % (name, city)\n",
    "    \n",
    "f = func2\n",
    "f.__call__(**{\"name\":\"nichole\", \"city\":\"shenzhen\"})\n",
    "\n",
    "def func(*args):\n",
    "    print args\n",
    "\n",
    "func((1, 2, 3))"
   ]
  },
  {
   "cell_type": "code",
   "execution_count": 21,
   "metadata": {},
   "outputs": [
    {
     "name": "stdout",
     "output_type": "stream",
     "text": [
      "set_x 1\n",
      "['_P__x', '__doc__', '__init__', '__module__', 'addProps', 'get_x', 'set_x', 'x', 'y']\n"
     ]
    },
    {
     "ename": "TypeError",
     "evalue": "'property' object is not callable",
     "output_type": "error",
     "traceback": [
      "\u001b[1;31m---------------------------------------------------------------------------\u001b[0m",
      "\u001b[1;31mTypeError\u001b[0m                                 Traceback (most recent call last)",
      "\u001b[1;32m<ipython-input-21-f2598c3af3e2>\u001b[0m in \u001b[0;36m<module>\u001b[1;34m()\u001b[0m\n\u001b[0;32m     27\u001b[0m \u001b[1;31m#p.x = 10\u001b[0m\u001b[1;33m\u001b[0m\u001b[1;33m\u001b[0m\u001b[0m\n\u001b[0;32m     28\u001b[0m \u001b[1;31m#p.y = 24\u001b[0m\u001b[1;33m\u001b[0m\u001b[1;33m\u001b[0m\u001b[0m\n\u001b[1;32m---> 29\u001b[1;33m \u001b[1;32mprint\u001b[0m\u001b[1;33m(\u001b[0m\u001b[0mp\u001b[0m\u001b[1;33m.\u001b[0m\u001b[0mx\u001b[0m\u001b[1;33m(\u001b[0m\u001b[1;33m)\u001b[0m\u001b[1;33m)\u001b[0m\u001b[1;33m\u001b[0m\u001b[0m\n\u001b[0m\u001b[0;32m     30\u001b[0m \u001b[1;32mprint\u001b[0m\u001b[1;33m(\u001b[0m\u001b[0mp\u001b[0m\u001b[1;33m.\u001b[0m\u001b[0my\u001b[0m\u001b[1;33m(\u001b[0m\u001b[1;33m)\u001b[0m\u001b[1;33m)\u001b[0m\u001b[1;33m\u001b[0m\u001b[0m\n",
      "\u001b[1;31mTypeError\u001b[0m: 'property' object is not callable"
     ]
    }
   ],
   "source": [
    "class P:\n",
    "\n",
    "    def __init__(self,x):\n",
    "        self.set_x(x)\n",
    "\n",
    "    def get_x(self):\n",
    "        print(\"get_x %s\" % self.__x)\n",
    "        return self.__x\n",
    "\n",
    "    def set_x(self, x):\n",
    "        print(\"set_x %s\" % x)\n",
    "        if x < 0:\n",
    "            self.__x = 0\n",
    "        elif x > 1000:\n",
    "            self.__x = 1000\n",
    "        else:\n",
    "            self.__x = x\n",
    "            \n",
    "    def addProps(self, name):\n",
    "        x = property(self.get_x, self.set_x)\n",
    "        setattr(self, name, x)\n",
    "\n",
    "p = P(1)\n",
    "p.addProps(\"x\")\n",
    "p.addProps(\"y\")\n",
    "print(dir(p))\n",
    "#p.x = 10\n",
    "#p.y = 24\n",
    "print(p.x())\n",
    "print(p.y())"
   ]
  },
  {
   "cell_type": "code",
   "execution_count": 30,
   "metadata": {},
   "outputs": [
    {
     "data": {
      "text/plain": [
       "20"
      ]
     },
     "execution_count": 30,
     "metadata": {},
     "output_type": "execute_result"
    }
   ],
   "source": [
    "class P:\n",
    "\n",
    "    def __init__(self,x):\n",
    "        self.__set_x(x)\n",
    "\n",
    "    def __get_x(self):\n",
    "        return self.__x\n",
    "\n",
    "    def __set_x(self, x):\n",
    "        if x < 0:\n",
    "            self.__x = 0\n",
    "        elif x > 1000:\n",
    "            self.__x = 1000\n",
    "        else:\n",
    "            self.__x = x\n",
    "\n",
    "    x = property(__get_x, __set_x)\n",
    "\n",
    "p = P(20)\n",
    "p.x"
   ]
  },
  {
   "cell_type": "code",
   "execution_count": 56,
   "metadata": {},
   "outputs": [],
   "source": [
    "#自定义属性\n",
    "class CustomProps(object):\n",
    "    def __init__(self):\n",
    "        self.props = {\"xx\":0, \"yy\":0}\n",
    "\n",
    "    def __getattr__(self, name):\n",
    "        props_ = self.__dict__.get(\"props\")\n",
    "        if props_ and name in props_:\n",
    "            return props_.get(name)\n",
    "        else:\n",
    "            return super(CustomProps, self).__getattr__(name)\n",
    "\n",
    "    def __setattr__(self, name, val):\n",
    "        props_ = self.__dict__.get(\"props\")\n",
    "        if props_ and name in props_:\n",
    "            props_[name] = val\n",
    "        else:\n",
    "            super(CustomProps, self).__setattr__(name, val)\n",
    "\n",
    "def test_CustomProps():\n",
    "    x = CustomProps()\n",
    "    y = CustomProps()\n",
    "    x.xx = 1\n",
    "    x.yy = 2\n",
    "    y.xx = 3\n",
    "    y.yy = 4\n",
    "    assert 1 == x.xx and 2 == x.yy\n",
    "    assert 3 == y.xx and 4 == y.yy\n",
    "\n",
    "test_CustomProps()"
   ]
  },
  {
   "cell_type": "code",
   "execution_count": 3,
   "metadata": {},
   "outputs": [
    {
     "name": "stdout",
     "output_type": "stream",
     "text": [
      "[PRODUCER] Producing 1...\n",
      "[CONSUMER] Consuming 1...\n",
      "[PRODUCER] Consumer return: 200 OK\n",
      "[PRODUCER] Producing 2...\n",
      "[CONSUMER] Consuming 2...\n",
      "[PRODUCER] Consumer return: 200 OK\n",
      "[PRODUCER] Producing 3...\n",
      "[CONSUMER] Consuming 3...\n",
      "[PRODUCER] Consumer return: 200 OK\n",
      "[PRODUCER] Producing 4...\n",
      "[CONSUMER] Consuming 4...\n",
      "[PRODUCER] Consumer return: 200 OK\n",
      "[PRODUCER] Producing 5...\n",
      "[CONSUMER] Consuming 5...\n",
      "[PRODUCER] Consumer return: 200 OK\n"
     ]
    },
    {
     "ename": "ImportError",
     "evalue": "No module named asyncio",
     "output_type": "error",
     "traceback": [
      "\u001b[1;31m---------------------------------------------------------------------------\u001b[0m",
      "\u001b[1;31mImportError\u001b[0m                               Traceback (most recent call last)",
      "\u001b[1;32m<ipython-input-3-880a33c3dc17>\u001b[0m in \u001b[0;36m<module>\u001b[1;34m()\u001b[0m\n\u001b[0;32m     23\u001b[0m \u001b[1;31m# WebSocket\u001b[0m\u001b[1;33m\u001b[0m\u001b[1;33m\u001b[0m\u001b[0m\n\u001b[0;32m     24\u001b[0m \u001b[1;31m# https://pypi.python.org/pypi/websockets\u001b[0m\u001b[1;33m\u001b[0m\u001b[1;33m\u001b[0m\u001b[0m\n\u001b[1;32m---> 25\u001b[1;33m \u001b[1;32mimport\u001b[0m \u001b[0masyncio\u001b[0m\u001b[1;33m\u001b[0m\u001b[0m\n\u001b[0m\u001b[0;32m     26\u001b[0m \u001b[1;32mimport\u001b[0m \u001b[0mwebsockets\u001b[0m\u001b[1;33m\u001b[0m\u001b[0m\n",
      "\u001b[1;31mImportError\u001b[0m: No module named asyncio"
     ]
    }
   ],
   "source": [
    "def consumer():\n",
    "    r = ''\n",
    "    while True:\n",
    "        n = yield r\n",
    "        if not n:\n",
    "            return\n",
    "        print('[CONSUMER] Consuming %s...' % n)\n",
    "        r = '200 OK'\n",
    "\n",
    "def produce(c):\n",
    "    c.send(None)\n",
    "    n = 0\n",
    "    while n < 5:\n",
    "        n = n + 1\n",
    "        print('[PRODUCER] Producing %s...' % n)\n",
    "        r = c.send(n)\n",
    "        print('[PRODUCER] Consumer return: %s' % r)\n",
    "    c.close()\n",
    "\n",
    "c = consumer()\n",
    "produce(c)\n",
    "\n",
    "# WebSocket\n",
    "# https://pypi.python.org/pypi/websockets\n",
    "import asyncio\n",
    "import websockets"
   ]
  },
  {
   "cell_type": "code",
   "execution_count": 12,
   "metadata": {},
   "outputs": [
    {
     "data": {
      "text/plain": [
       "['ONE',\n",
       " 'THREE',\n",
       " 'TWO',\n",
       " '__class__',\n",
       " '__delattr__',\n",
       " '__dict__',\n",
       " '__doc__',\n",
       " '__format__',\n",
       " '__getattribute__',\n",
       " '__hash__',\n",
       " '__init__',\n",
       " '__module__',\n",
       " '__new__',\n",
       " '__reduce__',\n",
       " '__reduce_ex__',\n",
       " '__repr__',\n",
       " '__setattr__',\n",
       " '__sizeof__',\n",
       " '__str__',\n",
       " '__subclasshook__',\n",
       " '__weakref__']"
      ]
     },
     "execution_count": 12,
     "metadata": {},
     "output_type": "execute_result"
    }
   ],
   "source": [
    "# 枚举类型\n",
    "def enum(**enums):\n",
    "    return type('Enum', (), enums)\n",
    "Numbers = enum(ONE=1, TWO=2, THREE='three')\n",
    "Numbers\n",
    "class Foo:\n",
    "    def __init__(self):\n",
    "        self.Numbers = enum(ONE=1, TWO=2, THREE='three')\n",
    "f = Foo()\n",
    "f.Numbers.ONE\n",
    "setattr(f, 'Num', Numbers)\n",
    "dir(f.Numbers)"
   ]
  },
  {
   "cell_type": "code",
   "execution_count": 5,
   "metadata": {},
   "outputs": [
    {
     "name": "stdout",
     "output_type": "stream",
     "text": [
      "<class 'delegator.Command'>\n",
      "True\n",
      " ������ E �еľ��� Data\n",
      " ������к��� 0008-5D57\n",
      "\n",
      " E:\\StudyWork\\Jupyter-Notebook ��Ŀ¼\n",
      "\n",
      "2018/02/28 ����  ���� 09:59    <DIR>          .\n",
      "2018/02/28 ����  ���� 09:59    <DIR>          ..\n",
      "2018/02/27 �ܶ�  ���� 11:03    <DIR>          .ipynb_checkpoints\n",
      "2018/02/27 �ܶ�  ���� 11:03            15,059 JupyterStudy.ipynb\n",
      "2018/02/28 ����  ���� 09:59            13,569 PythonStudy.ipynb\n",
      "2018/02/22 ����  ���� 14:17            10,544 test.html\n",
      "2018/02/26 ��һ  ���� 17:28             1,865 uiautomation.ipynb\n",
      "2018/02/27 �ܶ�  ���� 11:01                72 Untitled.ipynb\n",
      "2018/02/24 ����  ���� 18:30             6,577 websocket-client.ipynb\n",
      "2018/02/22 ����  ���� 09:44            28,664 weidadeyue_jupyter-notebook.bw.pdf\n",
      "               7 ���ļ�         76,350 �ֽ�\n",
      "               3 ��Ŀ¼ 122,212,052,992 �����ֽ�\n",
      "\n"
     ]
    }
   ],
   "source": [
    "import delegator\n",
    "c = delegator.run('dir')\n",
    "print(type(c))\n",
    "print(isinstance(c, delegator.Command))\n",
    "print(str(c.out))"
   ]
  },
  {
   "cell_type": "code",
   "execution_count": 13,
   "metadata": {},
   "outputs": [],
   "source": [
    "import time\n",
    "timeout = float(10)\n",
    "for i in range(100):\n",
    "    time.sleep(timeout/100)"
   ]
  },
  {
   "cell_type": "code",
   "execution_count": 17,
   "metadata": {},
   "outputs": [
    {
     "name": "stdout",
     "output_type": "stream",
     "text": [
      "['__class__', '__cmp__', '__contains__', '__delattr__', '__delitem__', '__doc__', '__eq__', '__format__', '__ge__', '__getattribute__', '__getitem__', '__gt__', '__hash__', '__init__', '__iter__', '__le__', '__len__', '__lt__', '__ne__', '__new__', '__reduce__', '__reduce_ex__', '__repr__', '__setattr__', '__setitem__', '__sizeof__', '__str__', '__subclasshook__', 'clear', 'copy', 'fromkeys', 'get', 'has_key', 'items', 'iteritems', 'iterkeys', 'itervalues', 'keys', 'pop', 'popitem', 'setdefault', 'update', 'values', 'viewitems', 'viewkeys', 'viewvalues']\n",
      "Help on built-in function pop:\n",
      "\n",
      "pop(...)\n",
      "    D.pop(k[,d]) -> v, remove specified key and return the corresponding value.\n",
      "    If key is not found, d is returned if given, otherwise KeyError is raised\n",
      "\n",
      "None\n"
     ]
    }
   ],
   "source": [
    "def foo(**args):\n",
    "    print(dir(args))\n",
    "    print(help(args.pop))\n",
    "    print(args)\n",
    "foo(**{arg:1})"
   ]
  }
 ],
 "metadata": {
  "kernelspec": {
   "display_name": "Python 2",
   "language": "python",
   "name": "python2"
  },
  "language_info": {
   "codemirror_mode": {
    "name": "ipython",
    "version": 2
   },
   "file_extension": ".py",
   "mimetype": "text/x-python",
   "name": "python",
   "nbconvert_exporter": "python",
   "pygments_lexer": "ipython2",
   "version": "2.7.10"
  }
 },
 "nbformat": 4,
 "nbformat_minor": 2
}
