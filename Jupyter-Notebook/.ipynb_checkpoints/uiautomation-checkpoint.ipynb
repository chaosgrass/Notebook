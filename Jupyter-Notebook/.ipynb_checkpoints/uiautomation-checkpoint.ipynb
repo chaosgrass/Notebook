{
 "cells": [
  {
   "cell_type": "code",
   "execution_count": 4,
   "metadata": {},
   "outputs": [
    {
     "name": "stdout",
     "output_type": "stream",
     "text": [
      "ControlType: PaneControl    ClassName: #32769    AutomationId:     Rect: (0, 0, 1920, 1080)    Name: ���� 1    Handle: 0x10010(65552)\n",
      "\n",
      "\n",
      "无标题 - 记事本\n",
      "\n",
      "\n"
     ]
    }
   ],
   "source": [
    "# pip install uiautomation\n",
    "# https://github.com/yinkaisheng/Python-UIAutomation-for-Windows\n",
    "import subprocess\n",
    "import uiautomation as automation\n",
    "\n",
    "print(automation.GetRootControl())\n",
    "print('\\n')\n",
    "subprocess.Popen('notepad.exe')\n",
    "notepadWindow = automation.WindowControl(searchDepth = 1, ClassName = 'Notepad')\n",
    "print(notepadWindow.Name)\n",
    "print('\\n')\n",
    "print(notepadWindow)\n",
    "print('\\n')\n",
    "\n",
    "notepadWindow.SetTopmost(True)\n",
    "edit = notepadWindow.EditControl()\n",
    "edit.SetValue('Hello')\n",
    "edit.SendKeys('{Ctrl}{End}{Enter}World')"
   ]
  }
 ],
 "metadata": {
  "kernelspec": {
   "display_name": "Python 2",
   "language": "python",
   "name": "python2"
  },
  "language_info": {
   "codemirror_mode": {
    "name": "ipython",
    "version": 2
   },
   "file_extension": ".py",
   "mimetype": "text/x-python",
   "name": "python",
   "nbconvert_exporter": "python",
   "pygments_lexer": "ipython2",
   "version": "2.7.10"
  }
 },
 "nbformat": 4,
 "nbformat_minor": 2
}
